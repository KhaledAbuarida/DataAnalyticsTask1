{
 "cells": [
  {
   "cell_type": "markdown",
   "id": "03376199-6ce8-43c9-89e4-6180052442ae",
   "metadata": {},
   "source": [
    "**Exploratory Data Analysis**"
   ]
  },
  {
   "cell_type": "code",
   "execution_count": 131,
   "id": "ba824e9e-e7bc-47fa-9071-c48a1e69381b",
   "metadata": {
    "tags": [],
    "vscode": {
     "languageId": "r"
    }
   },
   "outputs": [],
   "source": [
    "#importing neccessary libraries\n",
    "import pandas as pd\n",
    "import nltk\n",
    "import string\n",
    "import matplotlib.pyplot as plt\n",
    "from nltk.corpus import stopwords\n",
    "from nltk.tokenize import word_tokenize\n",
    "from nltk.stem.porter import PorterStemmer\n",
    "from nltk.stem import WordNetLemmatizer\n",
    "from collections import Counter\n",
    "import seaborn as sns\n",
    "ps = PorterStemmer()\n",
    "lmtz=WordNetLemmatizer()"
   ]
  },
  {
   "cell_type": "code",
   "execution_count": 98,
   "id": "721eabc2-e02c-4170-97e9-894e85cad175",
   "metadata": {
    "tags": [],
    "vscode": {
     "languageId": "r"
    }
   },
   "outputs": [],
   "source": [
    "#importing the dataset\n",
    "df = pd.read_csv(\"C:/Users/lenovo/Documents/jupyter/data_spam.csv\",encoding = \"ISO-8859-1\")"
   ]
  },
  {
   "cell_type": "code",
   "execution_count": 99,
   "id": "ef98f591-d7cb-4254-a215-46783865046d",
   "metadata": {
    "tags": [],
    "vscode": {
     "languageId": "r"
    }
   },
   "outputs": [
    {
     "name": "stdout",
     "output_type": "stream",
     "text": [
      "     v1                                                 v2 Unnamed: 2  \\\n",
      "0   ham  Go until jurong point, crazy.. Available only ...        NaN   \n",
      "1   ham                      Ok lar... Joking wif u oni...        NaN   \n",
      "2  spam  Free entry in 2 a wkly comp to win FA Cup fina...        NaN   \n",
      "3   ham  U dun say so early hor... U c already then say...        NaN   \n",
      "4   ham  Nah I don't think he goes to usf, he lives aro...        NaN   \n",
      "\n",
      "  Unnamed: 3 Unnamed: 4  \n",
      "0        NaN        NaN  \n",
      "1        NaN        NaN  \n",
      "2        NaN        NaN  \n",
      "3        NaN        NaN  \n",
      "4        NaN        NaN  \n"
     ]
    },
    {
     "data": {
      "text/plain": [
       "(5572, 5)"
      ]
     },
     "execution_count": 99,
     "metadata": {},
     "output_type": "execute_result"
    }
   ],
   "source": [
    "#check the 5 the shape of the dataset\n",
    "print(df.head())\n",
    "df.shape"
   ]
  },
  {
   "cell_type": "code",
   "execution_count": 100,
   "id": "f92c6e83-f3be-4042-b2bc-b7479b9aa671",
   "metadata": {
    "tags": []
   },
   "outputs": [
    {
     "name": "stdout",
     "output_type": "stream",
     "text": [
      "<class 'pandas.core.frame.DataFrame'>\n",
      "RangeIndex: 5572 entries, 0 to 5571\n",
      "Data columns (total 5 columns):\n",
      " #   Column      Non-Null Count  Dtype \n",
      "---  ------      --------------  ----- \n",
      " 0   v1          5572 non-null   object\n",
      " 1   v2          5572 non-null   object\n",
      " 2   Unnamed: 2  50 non-null     object\n",
      " 3   Unnamed: 3  12 non-null     object\n",
      " 4   Unnamed: 4  6 non-null      object\n",
      "dtypes: object(5)\n",
      "memory usage: 217.8+ KB\n"
     ]
    }
   ],
   "source": [
    "#getting info of the dataset\n",
    "df.info()"
   ]
  },
  {
   "cell_type": "code",
   "execution_count": 101,
   "id": "d63d9582-9f27-435a-97bd-d1bbd49c4497",
   "metadata": {
    "tags": [],
    "vscode": {
     "languageId": "r"
    }
   },
   "outputs": [
    {
     "data": {
      "text/plain": [
       "v1               2\n",
       "v2            5169\n",
       "Unnamed: 2      43\n",
       "Unnamed: 3      10\n",
       "Unnamed: 4       5\n",
       "dtype: int64"
      ]
     },
     "execution_count": 101,
     "metadata": {},
     "output_type": "execute_result"
    }
   ],
   "source": [
    "#Converting it into DataFrame\n",
    "df = pd.DataFrame(df)\n",
    "\n",
    "#check the number of unique values in the dataset\n",
    "df.nunique()"
   ]
  },
  {
   "cell_type": "code",
   "execution_count": 102,
   "id": "0d24fbc7-b409-455d-a8aa-7706ad68d6c8",
   "metadata": {
    "tags": [],
    "vscode": {
     "languageId": "r"
    }
   },
   "outputs": [
    {
     "data": {
      "text/plain": [
       "(5169, 5)"
      ]
     },
     "execution_count": 102,
     "metadata": {},
     "output_type": "execute_result"
    }
   ],
   "source": [
    "#droping the duplicates\n",
    "df.drop_duplicates(inplace = True)\n",
    "df.shape"
   ]
  },
  {
   "cell_type": "code",
   "execution_count": 103,
   "id": "0c08de3f-20c1-4d8f-8e3c-4272965b0b73",
   "metadata": {
    "tags": [],
    "vscode": {
     "languageId": "r"
    }
   },
   "outputs": [],
   "source": [
    "#droping last 3 columns\n",
    "df.drop(df.columns[[2, 3, 4]], axis=1, inplace=True)"
   ]
  },
  {
   "cell_type": "code",
   "execution_count": 104,
   "id": "772c6500-760d-44c4-bdca-5c7ec1db877f",
   "metadata": {
    "tags": []
   },
   "outputs": [],
   "source": [
    "df.rename(columns={'v1':'label','v2': 'message'},inplace = True)"
   ]
  },
  {
   "cell_type": "code",
   "execution_count": 105,
   "id": "0335cdbb-75c3-4d1e-8b83-dbd857940a62",
   "metadata": {
    "tags": []
   },
   "outputs": [
    {
     "data": {
      "text/plain": [
       "label      0\n",
       "message    0\n",
       "dtype: int64"
      ]
     },
     "execution_count": 105,
     "metadata": {},
     "output_type": "execute_result"
    }
   ],
   "source": [
    "#checking mssing values\n",
    "df.isnull().sum()"
   ]
  },
  {
   "cell_type": "code",
   "execution_count": 106,
   "id": "5b50d4bd-cd85-4806-8175-50f89c8a84bc",
   "metadata": {
    "tags": []
   },
   "outputs": [],
   "source": [
    "#label 'spam' as 1 , label 'ham' as 0\n",
    "df.loc[df['label'] == 'spam', 'label',] = 1\n",
    "df.loc[df['label'] == 'ham', 'label',] = 0"
   ]
  },
  {
   "cell_type": "code",
   "execution_count": 107,
   "id": "9586ecff-d0b3-4762-920c-0ccc66cb8d6c",
   "metadata": {
    "tags": []
   },
   "outputs": [
    {
     "data": {
      "text/html": [
       "<div>\n",
       "<style scoped>\n",
       "    .dataframe tbody tr th:only-of-type {\n",
       "        vertical-align: middle;\n",
       "    }\n",
       "\n",
       "    .dataframe tbody tr th {\n",
       "        vertical-align: top;\n",
       "    }\n",
       "\n",
       "    .dataframe thead th {\n",
       "        text-align: right;\n",
       "    }\n",
       "</style>\n",
       "<table border=\"1\" class=\"dataframe\">\n",
       "  <thead>\n",
       "    <tr style=\"text-align: right;\">\n",
       "      <th></th>\n",
       "      <th>label</th>\n",
       "      <th>message</th>\n",
       "    </tr>\n",
       "  </thead>\n",
       "  <tbody>\n",
       "    <tr>\n",
       "      <th>0</th>\n",
       "      <td>0</td>\n",
       "      <td>Go until jurong point, crazy.. Available only ...</td>\n",
       "    </tr>\n",
       "    <tr>\n",
       "      <th>1</th>\n",
       "      <td>0</td>\n",
       "      <td>Ok lar... Joking wif u oni...</td>\n",
       "    </tr>\n",
       "    <tr>\n",
       "      <th>2</th>\n",
       "      <td>1</td>\n",
       "      <td>Free entry in 2 a wkly comp to win FA Cup fina...</td>\n",
       "    </tr>\n",
       "    <tr>\n",
       "      <th>3</th>\n",
       "      <td>0</td>\n",
       "      <td>U dun say so early hor... U c already then say...</td>\n",
       "    </tr>\n",
       "    <tr>\n",
       "      <th>4</th>\n",
       "      <td>0</td>\n",
       "      <td>Nah I don't think he goes to usf, he lives aro...</td>\n",
       "    </tr>\n",
       "  </tbody>\n",
       "</table>\n",
       "</div>"
      ],
      "text/plain": [
       "  label                                            message\n",
       "0     0  Go until jurong point, crazy.. Available only ...\n",
       "1     0                      Ok lar... Joking wif u oni...\n",
       "2     1  Free entry in 2 a wkly comp to win FA Cup fina...\n",
       "3     0  U dun say so early hor... U c already then say...\n",
       "4     0  Nah I don't think he goes to usf, he lives aro..."
      ]
     },
     "execution_count": 107,
     "metadata": {},
     "output_type": "execute_result"
    }
   ],
   "source": [
    "df.head()"
   ]
  },
  {
   "cell_type": "code",
   "execution_count": 108,
   "id": "cb82f335-7791-4d8b-8e83-c5fd1d44f72b",
   "metadata": {
    "tags": []
   },
   "outputs": [
    {
     "data": {
      "text/plain": [
       "0    4516\n",
       "1     653\n",
       "Name: label, dtype: int64"
      ]
     },
     "execution_count": 108,
     "metadata": {},
     "output_type": "execute_result"
    }
   ],
   "source": [
    "#checking number of hams & spams\n",
    "df['label'].value_counts()"
   ]
  },
  {
   "cell_type": "code",
   "execution_count": 109,
   "id": "e1486db0-19eb-489e-a3d0-e8d938ba6569",
   "metadata": {
    "tags": []
   },
   "outputs": [
    {
     "data": {
      "image/png": "[encoded data removed]",
      "text/plain": [
       "<Figure size 640x480 with 1 Axes>"
      ]
     },
     "metadata": {},
     "output_type": "display_data"
    }
   ],
   "source": [
    "plt.pie(df['label'].value_counts(),labels=['ham','spam'], autopct='%0.2f')\n",
    "plt.show()"
   ]
  },
  {
   "cell_type": "code",
   "execution_count": 110,
   "id": "1c413cea-2f11-429b-b01b-bb36846fb98f",
   "metadata": {
    "tags": []
   },
   "outputs": [
    {
     "data": {
      "text/html": [
       "<div>\n",
       "<style scoped>\n",
       "    .dataframe tbody tr th:only-of-type {\n",
       "        vertical-align: middle;\n",
       "    }\n",
       "\n",
       "    .dataframe tbody tr th {\n",
       "        vertical-align: top;\n",
       "    }\n",
       "\n",
       "    .dataframe thead th {\n",
       "        text-align: right;\n",
       "    }\n",
       "</style>\n",
       "<table border=\"1\" class=\"dataframe\">\n",
       "  <thead>\n",
       "    <tr style=\"text-align: right;\">\n",
       "      <th></th>\n",
       "      <th>label</th>\n",
       "      <th>message</th>\n",
       "      <th>num_character</th>\n",
       "      <th>num_words</th>\n",
       "    </tr>\n",
       "  </thead>\n",
       "  <tbody>\n",
       "    <tr>\n",
       "      <th>0</th>\n",
       "      <td>0</td>\n",
       "      <td>Go until jurong point, crazy.. Available only ...</td>\n",
       "      <td>111</td>\n",
       "      <td>24</td>\n",
       "    </tr>\n",
       "    <tr>\n",
       "      <th>1</th>\n",
       "      <td>0</td>\n",
       "      <td>Ok lar... Joking wif u oni...</td>\n",
       "      <td>29</td>\n",
       "      <td>8</td>\n",
       "    </tr>\n",
       "    <tr>\n",
       "      <th>2</th>\n",
       "      <td>1</td>\n",
       "      <td>Free entry in 2 a wkly comp to win FA Cup fina...</td>\n",
       "      <td>155</td>\n",
       "      <td>37</td>\n",
       "    </tr>\n",
       "    <tr>\n",
       "      <th>3</th>\n",
       "      <td>0</td>\n",
       "      <td>U dun say so early hor... U c already then say...</td>\n",
       "      <td>49</td>\n",
       "      <td>13</td>\n",
       "    </tr>\n",
       "    <tr>\n",
       "      <th>4</th>\n",
       "      <td>0</td>\n",
       "      <td>Nah I don't think he goes to usf, he lives aro...</td>\n",
       "      <td>61</td>\n",
       "      <td>15</td>\n",
       "    </tr>\n",
       "  </tbody>\n",
       "</table>\n",
       "</div>"
      ],
      "text/plain": [
       "  label                                            message  num_character  \\\n",
       "0     0  Go until jurong point, crazy.. Available only ...            111   \n",
       "1     0                      Ok lar... Joking wif u oni...             29   \n",
       "2     1  Free entry in 2 a wkly comp to win FA Cup fina...            155   \n",
       "3     0  U dun say so early hor... U c already then say...             49   \n",
       "4     0  Nah I don't think he goes to usf, he lives aro...             61   \n",
       "\n",
       "   num_words  \n",
       "0         24  \n",
       "1          8  \n",
       "2         37  \n",
       "3         13  \n",
       "4         15  "
      ]
     },
     "execution_count": 110,
     "metadata": {},
     "output_type": "execute_result"
    }
   ],
   "source": [
    "#adding 'num_character' column\n",
    "df['num_character'] = df['message'].apply(len)\n",
    "#adding 'num_words' column\n",
    "df['num_words'] = df['message'].apply(lambda x:len(nltk.word_tokenize(x)))\n",
    "df.head()"
   ]
  },
  {
   "cell_type": "code",
   "execution_count": 111,
   "id": "22f03dd4-f846-4b87-b9e9-fef5aaae9bc8",
   "metadata": {
    "tags": []
   },
   "outputs": [
    {
     "data": {
      "text/plain": [
       "<Axes: xlabel='num_character', ylabel='Count'>"
      ]
     },
     "execution_count": 111,
     "metadata": {},
     "output_type": "execute_result"
    },
    {
     "data": {
      "image/png": "[encoded data removed]",
      "text/plain": [
       "<Figure size 1200x600 with 1 Axes>"
      ]
     },
     "metadata": {},
     "output_type": "display_data"
    }
   ],
   "source": [
    "#histplot show the number of character in ham & spam messages\n",
    "plt.figure(figsize=(12,6))\n",
    "sns.histplot(df[df['label'] == 0]['num_character'])\n",
    "sns.histplot(df[df['label'] == 1]['num_character'], color='red')"
   ]
  },
  {
   "cell_type": "code",
   "execution_count": 112,
   "id": "b77a8b33-5734-4a4d-8a38-b945d6099bc2",
   "metadata": {
    "tags": []
   },
   "outputs": [
    {
     "data": {
      "text/plain": [
       "<Axes: xlabel='num_words', ylabel='Count'>"
      ]
     },
     "execution_count": 112,
     "metadata": {},
     "output_type": "execute_result"
    },
    {
     "data": {
      "image/png": "[encoded data removed]",
      "text/plain": [
       "<Figure size 1200x600 with 1 Axes>"
      ]
     },
     "metadata": {},
     "output_type": "display_data"
    }
   ],
   "source": [
    "#histplot show the number of words in ham & spam messages\n",
    "plt.figure(figsize=(12,6))\n",
    "sns.histplot(df[df['label'] == 0]['num_words'])\n",
    "sns.histplot(df[df['label'] == 1]['num_words'], color='red')"
   ]
  },
  {
   "cell_type": "code",
   "execution_count": 113,
   "id": "3bb58738-0cdc-4fc4-96c4-83a62c9a52c4",
   "metadata": {
    "tags": []
   },
   "outputs": [],
   "source": [
    "#creating a function the apply text_tokenizing & removing special characters, panctuations, stopwords\n",
    "def text_trans(text):\n",
    "    #converting the message to lowercase\n",
    "    text = text.lower()\n",
    "    \n",
    "    #tokenize the message\n",
    "    text = nltk.word_tokenize(text)\n",
    "    \n",
    "    y = []\n",
    "    #lemmatization\n",
    "    for i in text:\n",
    "        y.append(lmtz.lemmatize(i))\n",
    "    \n",
    "    #remving special characters\n",
    "    text = y[:]\n",
    "    y.clear()\n",
    "    \n",
    "    for j in text:\n",
    "        if j.isalnum():\n",
    "            y.append(j)\n",
    "    text = y[:]\n",
    "    y.clear()\n",
    "    \n",
    "    #removing panctuation and stopwords\n",
    "    for i in text:\n",
    "        if i not in stopwords.words('english') and i not in string.punctuation:\n",
    "            y.append(i)\n",
    "    text = y[:]\n",
    "    y.clear()\n",
    "    \n",
    "    #stemming the message\n",
    "    for i in text:\n",
    "        y.append(ps.stem(i))\n",
    "        \n",
    "        \n",
    "    return \" \".join(y)  \n"
   ]
  },
  {
   "cell_type": "code",
   "execution_count": 116,
   "id": "e1e31249-f9fa-46a6-ba36-af03878a2062",
   "metadata": {
    "tags": []
   },
   "outputs": [],
   "source": [
    "#creating 'transformed_message' column \n",
    "df['transformed_message'] = df['message'].apply(text_trans)"
   ]
  },
  {
   "cell_type": "code",
   "execution_count": 118,
   "id": "0724b836-8b61-4e3a-a583-35a52edcaa82",
   "metadata": {
    "tags": []
   },
   "outputs": [
    {
     "data": {
      "text/html": [
       "<div>\n",
       "<style scoped>\n",
       "    .dataframe tbody tr th:only-of-type {\n",
       "        vertical-align: middle;\n",
       "    }\n",
       "\n",
       "    .dataframe tbody tr th {\n",
       "        vertical-align: top;\n",
       "    }\n",
       "\n",
       "    .dataframe thead th {\n",
       "        text-align: right;\n",
       "    }\n",
       "</style>\n",
       "<table border=\"1\" class=\"dataframe\">\n",
       "  <thead>\n",
       "    <tr style=\"text-align: right;\">\n",
       "      <th></th>\n",
       "      <th>label</th>\n",
       "      <th>message</th>\n",
       "      <th>num_character</th>\n",
       "      <th>num_words</th>\n",
       "      <th>transformed_message</th>\n",
       "    </tr>\n",
       "  </thead>\n",
       "  <tbody>\n",
       "    <tr>\n",
       "      <th>0</th>\n",
       "      <td>0</td>\n",
       "      <td>Go until jurong point, crazy.. Available only ...</td>\n",
       "      <td>111</td>\n",
       "      <td>24</td>\n",
       "      <td>go jurong point crazi avail bugi n great world...</td>\n",
       "    </tr>\n",
       "    <tr>\n",
       "      <th>1</th>\n",
       "      <td>0</td>\n",
       "      <td>Ok lar... Joking wif u oni...</td>\n",
       "      <td>29</td>\n",
       "      <td>8</td>\n",
       "      <td>ok lar joke wif u oni</td>\n",
       "    </tr>\n",
       "    <tr>\n",
       "      <th>2</th>\n",
       "      <td>1</td>\n",
       "      <td>Free entry in 2 a wkly comp to win FA Cup fina...</td>\n",
       "      <td>155</td>\n",
       "      <td>37</td>\n",
       "      <td>free entri 2 wkli comp win fa cup final tkt 21...</td>\n",
       "    </tr>\n",
       "    <tr>\n",
       "      <th>3</th>\n",
       "      <td>0</td>\n",
       "      <td>U dun say so early hor... U c already then say...</td>\n",
       "      <td>49</td>\n",
       "      <td>13</td>\n",
       "      <td>u dun say earli hor u c alreadi say</td>\n",
       "    </tr>\n",
       "    <tr>\n",
       "      <th>4</th>\n",
       "      <td>0</td>\n",
       "      <td>Nah I don't think he goes to usf, he lives aro...</td>\n",
       "      <td>61</td>\n",
       "      <td>15</td>\n",
       "      <td>nah think go usf life around though</td>\n",
       "    </tr>\n",
       "  </tbody>\n",
       "</table>\n",
       "</div>"
      ],
      "text/plain": [
       "  label                                            message  num_character  \\\n",
       "0     0  Go until jurong point, crazy.. Available only ...            111   \n",
       "1     0                      Ok lar... Joking wif u oni...             29   \n",
       "2     1  Free entry in 2 a wkly comp to win FA Cup fina...            155   \n",
       "3     0  U dun say so early hor... U c already then say...             49   \n",
       "4     0  Nah I don't think he goes to usf, he lives aro...             61   \n",
       "\n",
       "   num_words                                transformed_message  \n",
       "0         24  go jurong point crazi avail bugi n great world...  \n",
       "1          8                              ok lar joke wif u oni  \n",
       "2         37  free entri 2 wkli comp win fa cup final tkt 21...  \n",
       "3         13                u dun say earli hor u c alreadi say  \n",
       "4         15                nah think go usf life around though  "
      ]
     },
     "execution_count": 118,
     "metadata": {},
     "output_type": "execute_result"
    }
   ],
   "source": [
    "#nltk.download('wordnet')\n",
    "#checking the dataset\n",
    "df.head()"
   ]
  },
  {
   "cell_type": "code",
   "execution_count": 132,
   "id": "cbcb44e9-3f93-4d26-bf66-09ec744d8c8e",
   "metadata": {},
   "outputs": [],
   "source": [
    "#bag of words for spam messages\n",
    "spam_word_list = []\n",
    "for i in df[df['label'] == 1]['transformed_message'].tolist():\n",
    "    for word in i.split():\n",
    "        spam_word_list.append(word)"
   ]
  },
  {
   "cell_type": "code",
   "execution_count": 139,
   "id": "d0e266df-e949-476d-86e5-9a64a90dcf17",
   "metadata": {
    "tags": []
   },
   "outputs": [],
   "source": [
    "#bag of words for ham messages\n",
    "ham_word_list = []\n",
    "for i in df[df['label'] == 0]['transformed_message'].tolist():\n",
    "    for word in i.split():\n",
    "        ham_word_list.append(word)"
   ]
  },
  {
   "cell_type": "code",
   "execution_count": 146,
   "id": "f3639de2-157f-4941-a0e1-510f320cf281",
   "metadata": {
    "tags": []
   },
   "outputs": [
    {
     "name": "stdout",
     "output_type": "stream",
     "text": [
      "number of spam words: 9962\n",
      "number of ham words: 35703\n"
     ]
    }
   ],
   "source": [
    "#checking the number of spam & ham words\n",
    "print(\"number of spam words: \" + f\"{len(spam_word_list)}\")\n",
    "print(\"number of ham words: \" + f\"{len(ham_word_list)}\")"
   ]
  },
  {
   "cell_type": "code",
   "execution_count": 169,
   "id": "4eb19232-dcfd-4ee6-b753-c0bfdafa030a",
   "metadata": {
    "tags": []
   },
   "outputs": [],
   "source": [
    "#count most common repeted words and put it into DataFrame\n",
    "spam_df = pd.DataFrame(Counter(spam_word_list).most_common(30))\n",
    "ham_df = pd.DataFrame(Counter(ham_word_list).most_common(30))"
   ]
  },
  {
   "cell_type": "code",
   "execution_count": 168,
   "id": "2c2916c1-8170-4e0b-8ae5-a13bc5b94c6c",
   "metadata": {
    "tags": []
   },
   "outputs": [
    {
     "data": {
      "image/png": "[encoded data removed]",
      "text/plain": [
       "<Figure size 640x480 with 1 Axes>"
      ]
     },
     "metadata": {},
     "output_type": "display_data"
    }
   ],
   "source": [
    "sns.barplot(x=spam_df[0], y=spam_df[1])\n",
    "plt.xticks(rotation = 'vertical')\n",
    "plt.show()"
   ]
  },
  {
   "cell_type": "code",
   "execution_count": 172,
   "id": "b658693b-0e59-4e4d-9865-d0a2c949b504",
   "metadata": {
    "tags": []
   },
   "outputs": [
    {
     "data": {
      "image/png": "[encoded data removed]",
      "text/plain": [
       "<Figure size 640x480 with 1 Axes>"
      ]
     },
     "metadata": {},
     "output_type": "display_data"
    }
   ],
   "source": [
    "sns.barplot(x=ham_df[0], y=ham_df[1])\n",
    "plt.xticks(rotation = 'vertical')\n",
    "plt.show()"
   ]
  },
  {
   "cell_type": "code",
   "execution_count": null,
   "id": "d2a4caa2-4779-4fae-9a7b-3fae7f54c663",
   "metadata": {},
   "outputs": [],
   "source": []
  }
 ],
 "metadata": {
  "kernelspec": {
   "display_name": "Python 3 (ipykernel)",
   "language": "python",
   "name": "python3"
  },
  "language_info": {
   "codemirror_mode": {
    "name": "ipython",
    "version": 3
   },
   "file_extension": ".py",
   "mimetype": "text/x-python",
   "name": "python",
   "nbconvert_exporter": "python",
   "pygments_lexer": "ipython3",
   "version": "3.11.0"
  }
 },
 "nbformat": 4,
 "nbformat_minor": 5
}
